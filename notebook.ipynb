{
 "cells": [
  {
   "cell_type": "markdown",
   "metadata": {},
   "source": [
    "# Climate data science evaluation\n",
    "This notebook involves reading, plotting, and performing basic computations with timeseries data (Section 1) and geospatial data (Section 2). It assumes familiarity with the following Python libraries: pandas and xarray<br><br>\n",
    "**Creation date**: 05/28/2024<br>\n",
    "**Modication history**: n/a<br>\n",
    "**Author**: Nicole Keeney<br>"
   ]
  },
  {
   "cell_type": "markdown",
   "metadata": {},
   "source": [
    "## 1. Timeseries data \n",
    "This section uses tabular timeseries data from a weather station in Fort Collins, Colorado. "
   ]
  },
  {
   "cell_type": "markdown",
   "metadata": {},
   "source": [
    "### 1.1 Using pandas, read in the csv file \n",
    "The file is called \"fortcollins_weather.csv\" and is located in the folder \"data\" in the main directory"
   ]
  },
  {
   "cell_type": "code",
   "execution_count": null,
   "metadata": {},
   "outputs": [],
   "source": []
  },
  {
   "cell_type": "markdown",
   "metadata": {},
   "source": [
    "### 1.2 Make a lineplot of temperature (the variable \"Avg Temp (deg C)\") and time \n",
    "Temperature should be on the y-axis, and time should be on the x-axis"
   ]
  },
  {
   "cell_type": "code",
   "execution_count": null,
   "metadata": {},
   "outputs": [],
   "source": []
  },
  {
   "cell_type": "markdown",
   "metadata": {},
   "source": [
    "### 1.3 Convert the temperature units from Celcius to Farnheight, and make a lineplot of temp vs. time (same as 1.2)\n",
    "The data is provided in degrees Celcius. <br><br>The data conversion can be followed using the following equation: <br>\n",
    "°F = (1.8 × °C) + 32."
   ]
  },
  {
   "cell_type": "code",
   "execution_count": null,
   "metadata": {},
   "outputs": [],
   "source": []
  },
  {
   "cell_type": "markdown",
   "metadata": {},
   "source": [
    "## 2. Geospatial data \n",
    "This section uses gridded air temperature data from the Community Earth System Model 2 (CESM2), a climate model developed by the National Center for Atmospheric Research "
   ]
  },
  {
   "cell_type": "markdown",
   "metadata": {},
   "source": [
    "### 2.1 Using xarray, read in the netcdf file \n",
    "The file is called \"CESM2_ssp370_2030.nc\" and is located in the folder \"data\" in the main directory"
   ]
  },
  {
   "cell_type": "code",
   "execution_count": null,
   "metadata": {
    "execution": {
     "iopub.execute_input": "2024-05-28T16:46:09.399192Z",
     "iopub.status.busy": "2024-05-28T16:46:09.398219Z",
     "iopub.status.idle": "2024-05-28T16:46:09.426268Z",
     "shell.execute_reply": "2024-05-28T16:46:09.425832Z",
     "shell.execute_reply.started": "2024-05-28T16:46:09.399120Z"
    }
   },
   "outputs": [],
   "source": []
  },
  {
   "cell_type": "markdown",
   "metadata": {},
   "source": [
    "### 2.2 Plot the first timestep in the data (index time=0)"
   ]
  },
  {
   "cell_type": "code",
   "execution_count": null,
   "metadata": {
    "execution": {
     "iopub.execute_input": "2024-05-28T16:46:09.427645Z",
     "iopub.status.busy": "2024-05-28T16:46:09.427364Z",
     "iopub.status.idle": "2024-05-28T16:46:09.570707Z",
     "shell.execute_reply": "2024-05-28T16:46:09.570322Z",
     "shell.execute_reply.started": "2024-05-28T16:46:09.427623Z"
    }
   },
   "outputs": [],
   "source": []
  },
  {
   "cell_type": "markdown",
   "metadata": {},
   "source": [
    "### 2.3 Plot the data on October 26, 2030"
   ]
  },
  {
   "cell_type": "code",
   "execution_count": null,
   "metadata": {
    "execution": {
     "iopub.execute_input": "2024-05-28T16:46:09.571294Z",
     "iopub.status.busy": "2024-05-28T16:46:09.571203Z",
     "iopub.status.idle": "2024-05-28T16:46:09.701504Z",
     "shell.execute_reply": "2024-05-28T16:46:09.701203Z",
     "shell.execute_reply.started": "2024-05-28T16:46:09.571284Z"
    }
   },
   "outputs": [],
   "source": []
  },
  {
   "cell_type": "markdown",
   "metadata": {},
   "source": [
    "### 2.4 Compute a **yearly** average of the data (temporal mean) and plot a **map** of the data"
   ]
  },
  {
   "cell_type": "code",
   "execution_count": null,
   "metadata": {},
   "outputs": [],
   "source": []
  },
  {
   "cell_type": "markdown",
   "metadata": {},
   "source": [
    "### 2.5 Compute an **area** average of the data (spatial average) and make a **lineplot** of the data"
   ]
  },
  {
   "cell_type": "code",
   "execution_count": null,
   "metadata": {},
   "outputs": [],
   "source": []
  },
  {
   "cell_type": "markdown",
   "metadata": {},
   "source": [
    "### 2.6 Convert air temperature units to degrees Celcius \n",
    "The data is provided in degrees Kelvin. <br><br>The data conversion can be followed using the following equation: <br>\n",
    "°C = °K - 273.15"
   ]
  },
  {
   "cell_type": "code",
   "execution_count": null,
   "metadata": {},
   "outputs": [],
   "source": []
  },
  {
   "cell_type": "markdown",
   "metadata": {},
   "source": [
    "### 2.7 Rename the coordinates \"lat\" and \"lon\" to \"latitude\" and \"longitude\"\n",
    "lat --> latitude<br>\n",
    "lon --> longitude"
   ]
  },
  {
   "cell_type": "code",
   "execution_count": null,
   "metadata": {},
   "outputs": [],
   "source": []
  }
 ],
 "metadata": {
  "kernelspec": {
   "display_name": "Python 3 (ipykernel)",
   "language": "python",
   "name": "python3"
  },
  "language_info": {
   "codemirror_mode": {
    "name": "ipython",
    "version": 3
   },
   "file_extension": ".py",
   "mimetype": "text/x-python",
   "name": "python",
   "nbconvert_exporter": "python",
   "pygments_lexer": "ipython3",
   "version": "3.9.19"
  }
 },
 "nbformat": 4,
 "nbformat_minor": 4
}
